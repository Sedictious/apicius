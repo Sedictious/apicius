{
 "cells": [
  {
   "cell_type": "code",
   "execution_count": 1,
   "metadata": {},
   "outputs": [],
   "source": [
    "from cltk.tag.pos import POSTag"
   ]
  },
  {
   "cell_type": "code",
   "execution_count": 2,
   "metadata": {},
   "outputs": [],
   "source": [
    "from data.line_tokenized_text import line_tokenized_text as text"
   ]
  },
  {
   "cell_type": "code",
   "execution_count": 3,
   "metadata": {},
   "outputs": [],
   "source": [
    "tagger = POSTag('latin')"
   ]
  },
  {
   "cell_type": "code",
   "execution_count": 4,
   "metadata": {},
   "outputs": [],
   "source": [
    "backoff_tags = []"
   ]
  },
  {
   "cell_type": "code",
   "execution_count": 5,
   "metadata": {},
   "outputs": [],
   "source": [
    "for line in text:\n",
    "    backoff_tags.append(tagger.tag_tnt(line))"
   ]
  },
  {
   "cell_type": "code",
   "execution_count": 6,
   "metadata": {},
   "outputs": [
    {
     "data": {
      "text/plain": [
       "[('Conditi', 'Unk'),\n",
       " ('paradoxi', 'Unk'),\n",
       " ('compositio', 'Unk'),\n",
       " ('mellis', 'Unk'),\n",
       " ('pondo', 'D--------'),\n",
       " ('XV', 'Unk'),\n",
       " ('in', 'R--------'),\n",
       " ('aeneum', 'A-S---NN-'),\n",
       " ('vas', 'N-S---NN-'),\n",
       " ('mittuntu', 'Unk'),\n",
       " ('praemissis', 'Unk'),\n",
       " ('vini', 'N-S---NG-'),\n",
       " ('sextariis', 'Unk'),\n",
       " ('duobu', 'Unk'),\n",
       " ('ut', 'C--------'),\n",
       " ('in', 'R--------'),\n",
       " ('coctura', 'Unk'),\n",
       " ('mellis', 'Unk'),\n",
       " ('vinum', 'N-S---NA-'),\n",
       " ('decoquas', 'Unk')]"
      ]
     },
     "execution_count": 6,
     "metadata": {},
     "output_type": "execute_result"
    }
   ],
   "source": [
    "backoff_tags[0]"
   ]
  }
 ],
 "metadata": {
  "kernelspec": {
   "display_name": "Python 3",
   "language": "python",
   "name": "python3"
  },
  "language_info": {
   "codemirror_mode": {
    "name": "ipython",
    "version": 3
   },
   "file_extension": ".py",
   "mimetype": "text/x-python",
   "name": "python",
   "nbconvert_exporter": "python",
   "pygments_lexer": "ipython3",
   "version": "3.7.3"
  }
 },
 "nbformat": 4,
 "nbformat_minor": 2
}
