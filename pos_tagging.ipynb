{
 "cells": [
  {
   "cell_type": "markdown",
   "metadata": {},
   "source": [
    "## POS Tagging\n",
    "\n",
    "We'll generate the POS tags from the tokenized text. You can construct your own tagger from a training set (as described in the [docs](http://docs.cltk.org/en/latest/latin.html#making-pos-training-sets). CLTK also provides pre=trained models you can easily use which were trained with the help of NLTK."
   ]
  },
  {
   "cell_type": "code",
   "execution_count": 1,
   "metadata": {},
   "outputs": [],
   "source": [
    "from cltk.tag.pos import POSTag"
   ]
  },
  {
   "cell_type": "code",
   "execution_count": 2,
   "metadata": {},
   "outputs": [],
   "source": [
    "from data.line_tokenized_text import line_tokenized_text as text"
   ]
  },
  {
   "cell_type": "code",
   "execution_count": 3,
   "metadata": {},
   "outputs": [],
   "source": [
    "tagger = POSTag('latin')"
   ]
  },
  {
   "cell_type": "markdown",
   "metadata": {},
   "source": [
    "###  TnT tagger\n",
    "\n",
    "[TnT](http://www.nltk.org/_modules/nltk/tag/tnt.html) (short for Trigrams'n'Tags) is a Hidden Markov Model that is trained on trigrams of a text corpus."
   ]
  },
  {
   "cell_type": "code",
   "execution_count": 4,
   "metadata": {},
   "outputs": [],
   "source": [
    "tnt_tags = []"
   ]
  },
  {
   "cell_type": "code",
   "execution_count": 5,
   "metadata": {},
   "outputs": [],
   "source": [
    "for line in text:\n",
    "    tnt_tags.append(tagger.tag_tnt(line))"
   ]
  },
  {
   "cell_type": "code",
   "execution_count": 6,
   "metadata": {},
   "outputs": [
    {
     "data": {
      "text/plain": [
       "[('Conditi', 'Unk'),\n",
       " ('paradoxi', 'Unk'),\n",
       " ('compositio', 'Unk'),\n",
       " ('mellis', 'Unk'),\n",
       " ('pondo', 'D--------'),\n",
       " ('XV', 'Unk'),\n",
       " ('in', 'R--------'),\n",
       " ('aeneum', 'A-S---NN-'),\n",
       " ('vas', 'N-S---NN-'),\n",
       " ('mittuntu', 'Unk'),\n",
       " ('praemissis', 'Unk'),\n",
       " ('vini', 'N-S---NG-'),\n",
       " ('sextariis', 'Unk'),\n",
       " ('duobu', 'Unk'),\n",
       " ('ut', 'C--------'),\n",
       " ('in', 'R--------'),\n",
       " ('coctura', 'Unk'),\n",
       " ('mellis', 'Unk'),\n",
       " ('vinum', 'N-S---NA-'),\n",
       " ('decoquas', 'Unk')]"
      ]
     },
     "execution_count": 6,
     "metadata": {},
     "output_type": "execute_result"
    }
   ],
   "source": [
    "tnt_tags[0]"
   ]
  },
  {
   "cell_type": "markdown",
   "metadata": {},
   "source": [
    "### 1–2–3–gram backoff tagger\n",
    "The backoff tagger is a Bayesian tagger that works by identifying known ngrams from the trained corpora. Since it can only recognize ngrams it has seen, it's important to normalize the text and possibly try orthographic variations of unkown ngrams."
   ]
  },
  {
   "cell_type": "code",
   "execution_count": 7,
   "metadata": {},
   "outputs": [],
   "source": [
    "backoff_tags = []"
   ]
  },
  {
   "cell_type": "code",
   "execution_count": 8,
   "metadata": {},
   "outputs": [],
   "source": [
    "for line in text:\n",
    "    backoff_tags.append(tagger.tag_ngram_123_backoff(line))"
   ]
  },
  {
   "cell_type": "code",
   "execution_count": 9,
   "metadata": {},
   "outputs": [
    {
     "data": {
      "text/plain": [
       "[('Conditi', None),\n",
       " ('paradoxi', None),\n",
       " ('compositio', None),\n",
       " ('mellis', None),\n",
       " ('pondo', 'D--------'),\n",
       " ('XV', None),\n",
       " ('in', 'R--------'),\n",
       " ('aeneum', 'A-S---NN-'),\n",
       " ('vas', 'N-S---NN-'),\n",
       " ('mittuntu', None),\n",
       " ('praemissis', None),\n",
       " ('vini', 'N-S---NG-'),\n",
       " ('sextariis', None),\n",
       " ('duobu', None),\n",
       " ('ut', 'C--------'),\n",
       " ('in', 'R--------'),\n",
       " ('coctura', None),\n",
       " ('mellis', None),\n",
       " ('vinum', 'N-S---NA-'),\n",
       " ('decoquas', None)]"
      ]
     },
     "execution_count": 9,
     "metadata": {},
     "output_type": "execute_result"
    }
   ],
   "source": [
    "backoff_tags[0]"
   ]
  }
 ],
 "metadata": {
  "kernelspec": {
   "display_name": "Python 3",
   "language": "python",
   "name": "python3"
  },
  "language_info": {
   "codemirror_mode": {
    "name": "ipython",
    "version": 3
   },
   "file_extension": ".py",
   "mimetype": "text/x-python",
   "name": "python",
   "nbconvert_exporter": "python",
   "pygments_lexer": "ipython3",
   "version": "3.7.4"
  }
 },
 "nbformat": 4,
 "nbformat_minor": 2
}
