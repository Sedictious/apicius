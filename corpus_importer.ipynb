{
 "cells": [
  {
   "cell_type": "markdown",
   "metadata": {},
   "source": [
    "## Fetching Corpora\n",
    "CLTK provides a wide range of freely available corpora for numerous languages. Normally, if you'd like to import an already existing text, you would just call the ``CorpusImporter``"
   ]
  },
  {
   "cell_type": "code",
   "execution_count": 1,
   "metadata": {},
   "outputs": [],
   "source": [
    "from cltk.corpus.latin.corpora import LATIN_CORPORA "
   ]
  },
  {
   "cell_type": "code",
   "execution_count": 2,
   "metadata": {},
   "outputs": [],
   "source": [
    "from cltk.corpus.utils.importer import CorpusImporter\n",
    "corpus_importer = CorpusImporter(\"latin\")"
   ]
  },
  {
   "cell_type": "code",
   "execution_count": 3,
   "metadata": {},
   "outputs": [
    {
     "data": {
      "text/plain": [
       "cltk.corpus.utils.importer.CorpusImporter"
      ]
     },
     "execution_count": 3,
     "metadata": {},
     "output_type": "execute_result"
    }
   ],
   "source": [
    "CorpusImporter"
   ]
  },
  {
   "cell_type": "code",
   "execution_count": 4,
   "metadata": {},
   "outputs": [
    {
     "data": {
      "text/plain": [
       "['latin_text_perseus',\n",
       " 'latin_treebank_perseus',\n",
       " 'latin_text_latin_library',\n",
       " 'phi5',\n",
       " 'phi7',\n",
       " 'latin_proper_names_cltk',\n",
       " 'latin_models_cltk',\n",
       " 'latin_pos_lemmata_cltk',\n",
       " 'latin_treebank_index_thomisticus',\n",
       " 'latin_lexica_perseus',\n",
       " 'latin_training_set_sentence_cltk',\n",
       " 'latin_word2vec_cltk',\n",
       " 'latin_text_antique_digiliblt',\n",
       " 'latin_text_corpus_grammaticorum_latinorum',\n",
       " 'latin_text_poeti_ditalia',\n",
       " 'latin_text_tesserae']"
      ]
     },
     "execution_count": 4,
     "metadata": {},
     "output_type": "execute_result"
    }
   ],
   "source": [
    "corpus_importer.list_corpora"
   ]
  },
  {
   "cell_type": "code",
   "execution_count": 5,
   "metadata": {},
   "outputs": [],
   "source": [
    "corpus_importer.import_corpus('latin_text_latin_library')"
   ]
  },
  {
   "cell_type": "code",
   "execution_count": 6,
   "metadata": {},
   "outputs": [],
   "source": [
    "corpus_importer.import_corpus('latin_models_cltk')"
   ]
  },
  {
   "cell_type": "markdown",
   "metadata": {},
   "source": [
    "## Accessing the corpora\n",
    "\n",
    "After the corpus has been imported, users will want to access the data. You can achieve this with the ``CorpusReader`` module, which allows you to access all the available documents, paragraphs and words in a corpus."
   ]
  },
  {
   "cell_type": "code",
   "execution_count": 7,
   "metadata": {},
   "outputs": [],
   "source": [
    "from cltk.corpus.readers import get_corpus_reader"
   ]
  },
  {
   "cell_type": "code",
   "execution_count": 8,
   "metadata": {},
   "outputs": [],
   "source": [
    "latin_text_lib = get_corpus_reader(corpus_name = 'latin_text_latin_library', language = 'latin')"
   ]
  },
  {
   "cell_type": "code",
   "execution_count": 9,
   "metadata": {},
   "outputs": [
    {
     "data": {
      "text/plain": [
       "<FilteredPlaintextCorpusReader in 'C:\\\\Users\\\\clems\\\\cltk_data\\\\latin\\\\text\\\\latin_text_latin_library'>"
      ]
     },
     "execution_count": 9,
     "metadata": {},
     "output_type": "execute_result"
    }
   ],
   "source": [
    "latin_text_lib"
   ]
  },
  {
   "cell_type": "code",
   "execution_count": 10,
   "metadata": {},
   "outputs": [
    {
     "data": {
      "text/plain": [
       "['DUODECIM',\n",
       " 'TABULARUM',\n",
       " 'LEGES',\n",
       " 'DUODECIM',\n",
       " 'TABULARUM',\n",
       " 'LEGES',\n",
       " 'TABULA',\n",
       " 'I',\n",
       " 'Si',\n",
       " 'in']"
      ]
     },
     "execution_count": 10,
     "metadata": {},
     "output_type": "execute_result"
    }
   ],
   "source": [
    "list(latin_text_lib.words())[:10]"
   ]
  },
  {
   "cell_type": "markdown",
   "metadata": {},
   "source": [
    "## Fetching texts from an online source\n",
    "\n",
    "Of course, you may also want to fetch some texts that are not on CLTK. In this case, you will need to fetch and clean up the texts yourself with the help of Python base and external libraries. "
   ]
  },
  {
   "cell_type": "code",
   "execution_count": 11,
   "metadata": {},
   "outputs": [],
   "source": [
    "links = [\"http://www.thelatinlibrary.com/apicius/apicius\"+str(i)+\".shtml\" for i in range(1, 6)]"
   ]
  },
  {
   "cell_type": "code",
   "execution_count": 12,
   "metadata": {},
   "outputs": [],
   "source": [
    "from requests import get"
   ]
  },
  {
   "cell_type": "code",
   "execution_count": 14,
   "metadata": {},
   "outputs": [],
   "source": [
    "books = [get(link).text for link in links]"
   ]
  },
  {
   "cell_type": "code",
   "execution_count": 15,
   "metadata": {},
   "outputs": [
    {
     "data": {
      "text/plain": [
       "'<html>\\n\\t<head>\\n\\t\\t<title>\\n\\t\\t\\tApicius: de Re Coquinaria Liber I\\n\\t\\t</title>\\n\\n\\t\\t<link rel=\"SHORTCUT ICON\" href=\"http://www.thelatinlibrary.com/icon.ico\">\\n\\t\\t<link rel=\"StyleSheet\" href=\"http://www.thelatinlibrary.com/latinlibrary.css\">\\n\\t</head>\\n\\t\\n<body>\\n\\n<p class=pagehead>DE RE COQUINARIA LIBER PRIMUS M. GAVII APICII</p>\\n\\n<p class=border></P>\\n\\n<p>\\n<b>LIBER I. EPIMELES.</b>\\n</P>\\n\\n<P>\\n<b>I. Conditum paradoxum.</b>\\n</P>\\n\\n<P>\\n1. CONDITI PARADOXI COMPOSITIO.\\n</P>\\n\\n<P>\\nMellis p.XV in aeneum uas mittuntur, '"
      ]
     },
     "execution_count": 15,
     "metadata": {},
     "output_type": "execute_result"
    }
   ],
   "source": [
    "books[0][:500]"
   ]
  },
  {
   "cell_type": "markdown",
   "metadata": {},
   "source": [
    "In its current form the text is essentially useless for human readers. To parse the current document easily and efficiently, we turn to a powerful Python library - Beautiful Soup - which is commonly used when fetching texts from webpages."
   ]
  },
  {
   "cell_type": "code",
   "execution_count": 16,
   "metadata": {},
   "outputs": [],
   "source": [
    "from bs4 import BeautifulSoup"
   ]
  },
  {
   "cell_type": "code",
   "execution_count": 17,
   "metadata": {},
   "outputs": [],
   "source": [
    "r = BeautifulSoup(books[0], \"lxml\")"
   ]
  },
  {
   "cell_type": "code",
   "execution_count": 18,
   "metadata": {},
   "outputs": [],
   "source": [
    "ps = [p.text.strip() for p in r.body.select(\"p\") if p.text.strip()]"
   ]
  },
  {
   "cell_type": "code",
   "execution_count": 19,
   "metadata": {},
   "outputs": [
    {
     "data": {
      "text/plain": [
       "['DE RE COQUINARIA LIBER PRIMUS M. GAVII APICII',\n",
       " 'LIBER I. EPIMELES.',\n",
       " 'I. Conditum paradoxum.',\n",
       " '1. CONDITI PARADOXI COMPOSITIO.',\n",
       " 'Mellis p.XV in aeneum uas mittuntur, praemissis vini sextariis duobus, ut in coctura mellis vinum decoquas.  Quod igni lento et aridis lignis calefactum, commotum ferula dum coquitur, si effervere coeperit, vini rore conpescitur, praeter quod subtracto igni in se redit.  Cum perfrixerit, rursus accenditur.  Hoc secundo ac tertio fiet, ac tum demum remotum a foco postridie despumatur.  Tum mittis piperis uncias quattor iam triti, masticis scripulos III, folii et croci dragmae singulae, datilorum ossibus torridis quinque, isdemque dactilis vino mollitis, intercedente prius suffusione vini de suo modo ac numero, ut tritura lenis habeatur.  His omnibus paratis supermittis vini lenis sextaria XVIII.  Carbones perfecto aderunt.',\n",
       " '2. CONDITUM MELIZOMUM PERPETUUM QUOD SUBMINISTRATUR PER VIAM PEREGRINANTI.',\n",
       " 'Piper tritum cum melle despumto in cupellam mittis conditi loco, et ad momentum quantum sit bibendum, tantum aut mellis proferas aut vini misceas.  Sed si uas erit, nonnihil uini melizomo mittas, adiciendum propter mellis exitum solutiorem.',\n",
       " 'II. Absinthium Romanum',\n",
       " '1. ABSINTHIUM ROMANUM SIC FACIES.',\n",
       " 'Conditi Camerini praeceptis, utique pro absinthio cessante;  in cuius vicem absinthi Pontici purgati terendique unciam, Thebaicam dabis, masticis, folii scripulos III, vini eius modi sextarios XVIII.  Carbones amaritudo non exigit.',\n",
       " 'III. Rosatum et violacium.',\n",
       " '1. ROSATUM SIC FACIES.',\n",
       " 'Folias rosarum, albo sublato, lino inseris ut sutilis facias, et vino quam plurimas infundes, ut septem diebus in vino sint.  Post septem dies rosam de vino tollis et alias sutiles recentes similiter mittis, ut per dies septem in vino requiescant, et rosam eximis.  Similiter et tertio facies et rosam eximis et vinum colas et, cum ad bibendum voles uti, addito melle rosatum conficies, sane custodito ut rosam a rore siccam et optimam mittas.  Similiter, ut supra, et de viola violacium facies, et eodem modo melle temperabis.',\n",
       " '2. ROSATUM SINE ROSA SIC FACIES.',\n",
       " 'Folia citri viridia in sportella palmea in dolium musti mittes antequam ferveat, et post quadraginta dies exime.  Cum necesse fuerit, mel addes et pro rosto utere.',\n",
       " 'IV. Oleum Liburnium sic facies.',\n",
       " '1. In oleo Spano mittes hellenium et cyperi et folia lauri non vetusta, tunsa omnia et cribellata, ad levissimum pulverem redacta, et sales frictos et tritos, et per triduum vel plus promisce diligenter.  Post haec aliquanto tempore patere requiescere, et Liburnicum omnes putabunt.',\n",
       " 'V. Vinum ex atro candidum facies.',\n",
       " '1. Lomentum ex faba factum vel ovorum trium alborem in lagonam mittis et diutissime agitas:  alia die erit candidum.  Et cineres vitis albae idem faciunt.',\n",
       " 'VI. De liquamine emendando.',\n",
       " '1. Liquamen si odorem malum fecerit, val inan inversum fumiga lauro et cupresso, et in hoc liquamen infunde ante ventilatum.  Si salsum fuerit, mellis sextarium mittis et moves picas, et emendasti;  sed et msutum recens idem praestat.',\n",
       " 'VII. Ut carnes sine sale quovis tempore recentes sint.',\n",
       " '1. UT CARNES SINE SALE QUOVIS TEMPORE RECENTES SINT.',\n",
       " 'Carnes recentes quales volueris melle tegantur, sed vas pendeat et, quando volueris, utere.  Hoe hieme melius fit, aestate paucis diebus durabit.  Et in carne cocta itidem facies.',\n",
       " '2. CALLUM PORCINUM VEL BUBULUM ET UNGELLAE COCTAE UT DIU DURENT.',\n",
       " 'In senapi ex aceto, sale, melle facta mittis ut tegantur et, quando volueris, utere:  miraberis.',\n",
       " 'VIII. Ut carnem salsam dulcem facias.',\n",
       " '1. Carnem salsam dulcem facies, si prius in lacte coquas et postea in aquam.',\n",
       " 'IX. Pisces fricti ut diu durent.',\n",
       " '1. UT PISCES FRICTI DIU DURENT.',\n",
       " 'Eodem momento quo friguntur et levantur ab aceto calido perfunduntur.',\n",
       " '2. OSTREA, UT DIU DURENT.',\n",
       " 'Lavas ab aceto, aut ex aceto vasculum picitum lava, et ostrea compone.',\n",
       " 'X. Ut uncia laseris toto tempore durent.',\n",
       " 'Laser in spatiosum doliolum vitreum mittis et nucleos pineos et puta viginti, cumque utendum fuerit lasere, nucleos contere, et in  cibis miraberis sapores;  et tantum numero nucleorum doliolo reserentur.',\n",
       " 'XI. Ut dulcia de melle diu durent.',\n",
       " '1. UT DULCIA DE MELLE DIU DURENT.',\n",
       " 'Accipies quod Graeci dicunt cnecon et facies farinam et admisces cum melle eo tempore quo dulcia facturus es.',\n",
       " '2. UT MEL MALUM BONUM FACIAS.',\n",
       " 'Me malum bonum facies ad vendendum, unam partem mali et duas boni si simul miscueris.',\n",
       " '3. MEL CORRUPTUM UT PROBES.',\n",
       " 'Inlunium infundes in melle et incende.  Si incorruptum est, lucet.',\n",
       " 'XII. Uvae ut diu seruentur.',\n",
       " '1. UVAE UT DIU SERVENTUR.',\n",
       " 'Accipies uvas de vite inlaesas, et aquam pluvialem ad tertias decoques, et mittis in vas in quo et uvas mittis.  Vas picari et gipsari facies, et in locum frigidum ubi soli accesusum non habet reponi facies et, quando volueris, uvas virides invenies.  Et ipsam aquam pro hydromelli aegris dabis.  Et si in ordeo obruas, inlaesas invenies.',\n",
       " '2. UT MALA ET MALA GRANATA DIU DURENT.',\n",
       " 'In calidam ferventem merge, et statim leva et suspende.',\n",
       " '3. UT MALA CIDONIA DIU SERVENTUR.',\n",
       " 'Eligis mala sine vitio cum ramulis et foliis et condes in vas et suffundes mel et defritum et diu servabis.',\n",
       " '4. FICUM RECENTEM, MALA, PRUNA, PIRA, CERASIA UT DIU SERVES.',\n",
       " 'Omnia cum peciolis diligenter legito et in melle ponito ne se contingant.',\n",
       " '5. CITRIA UT DIU DURENT.',\n",
       " 'In vas citrium mitte, gipsa, suspende.',\n",
       " '6. MORA UT DIU DURENT.',\n",
       " 'Ex moris sucum facito et cum sapa misce et in vitrio vase cum mora mitte;  custodies multo tempore.',\n",
       " '7. OLERA UT DIU SERVENTUR.',\n",
       " 'Olera electa no satis matura in vas picitum repone.',\n",
       " '8. RAPAE UT DIU SERVENTUR.',\n",
       " 'Ante accuratas et compositas asperges mirtae bacis cum melle et aceto.',\n",
       " '9. ALITER.',\n",
       " 'Senapi tempera melle, aceto, sale et super compositas rapas infundes.',\n",
       " '10. TUBERA UT DIU SERVENTUR.',\n",
       " 'Tubera quae aquae non vexaverint componis in vas alternis, alternis scobem siccam mittis et gipsas et loco frigido pones.',\n",
       " '11. DURACINA PERSICA UT DIU DURENT.',\n",
       " 'Eligitio optima et mitte in muriam.  Postera die exime et spongiabis diligenter et collocabis in vas.  Fundes salem, acetum, satureiam.',\n",
       " 'XIII. Sales conditos ad multa.',\n",
       " '1. Sales conditos ad digestionem, ad ventrem movendum, et omnes morbos et pestilentiam et omnia frigora prohibent generari, sunt autem et suavissimi ultra quam speras.  Sales communes frictos lib.I, sales ammonicos frictos lib.II, piperis albi uncias III, gingiber unc.II, ammeos unc.I semis, timi unc.I semis, apii, seminis unc.I semis (si apii semem mittere nolueris, petroselini mittis unc.III), origani unc.III, erucae semen unc.I semis, piperis nigri unc.III, croci unc.I, ysopi Cretici unc.II, folium unc.II, petroselinum unc.II, aneti unc.II.',\n",
       " 'XIV. Oliuas uirides seruare ut quouis tempore oelum facias.',\n",
       " '1. Olivas de arbore sublatas in illud mittis, et erunt tales quovis tempore quasi mox de arbore demptae.  De quibus, si volueris, oleum viridem facies.',\n",
       " 'XV. Cuminatum in ostrea et conchiclis.',\n",
       " '1. CUMINATUM IN OSTREA ET CONCHICLA.',\n",
       " 'Piper, ligusticum, petroselinum, mentam siccam, folium, malabatrum, cuminum plusculum, mel, acetum et liquamen.',\n",
       " '2. ALITER.',\n",
       " 'Piper, ligusticum, petrosilenum, mentan siccam, cuminum plusculum, mel, acetum, liquamen.',\n",
       " 'XVI. Laseratum.',\n",
       " '1. LASERATUM.',\n",
       " 'Laser Cyrenaicum vel Parthicum tepida dissolvis cum aceto, liquamine temperatum, vel piper, petroselinum, mentam siccam, laseris radicem, mel, acetum, liquamen.',\n",
       " '2. ALITER.',\n",
       " 'Piper, careum, anethum, petroselinum, mentam siccam, silfi, folium, malabatrum, ispicam Indicam, costum modicum, mel, acetum, liquamen.',\n",
       " 'XVII. Oenogarum in tubera.',\n",
       " '1. OENOGARUM IN TUBERA.',\n",
       " 'Piper, ligusticum, coriandrum, rutam, liquamen, mel, vinum et oleum modice.',\n",
       " '2. ALITER.',\n",
       " 'Timum, satureiam, piper, ligusticum, mel, vinum, liquamen et oleum.',\n",
       " 'XVIII. Oxyporium.',\n",
       " '1. Cumini unc. II, zingiberis unc.I, rutae viridis unc.I, nitri scripulos VI, dactilorum pinguium scripulos XII, piperis unc.I, mellis unc.IX.  Cuminum vel Ethiopicum aut Siriacum aut Libicum aceto infundes, sicca et sic tundes.  Postea melle comprehendis.  Cum necesse fuerit, oxygaro uteris.',\n",
       " 'XIX. Ypotrimma.',\n",
       " '1. Piper, ligusticum, mentam aridam, nucleos pineos, uvam passam, cariotam, caseum dulcem, mel, acetum, liquamen, oleum, vinum, defritum aut carenum.',\n",
       " 'XX. Oxygarum digestible.',\n",
       " '1. OXYGARUM DIGESTIBILEM.',\n",
       " 'Piperis semunciam, silis Gallici scripulos II, cardamomi scripulos VI, cumini scripulos VI, folii scripulum I, mentae siccae scripulos VI, tunsa cribrataque melle colligis.  Cum opus fuerit, liquamen et acetum addis.',\n",
       " '2. ALITER.',\n",
       " 'Piperis unc.I, petroselini, carei, ligustici uncias singulas;  melle colliguntur.  Cum opus fuerit, liquamen et acetum addes.',\n",
       " 'XXI. Moretaria.',\n",
       " 'Mentam, rutam, coriandrum, feniculum, omnia viridia, ligusticum, piper, mel, liquamen.  Si opus fuerit, acetum addes.']"
      ]
     },
     "execution_count": 19,
     "metadata": {},
     "output_type": "execute_result"
    }
   ],
   "source": [
    "ps"
   ]
  }
 ],
 "metadata": {
  "kernelspec": {
   "display_name": "Python 3",
   "language": "python",
   "name": "python3"
  },
  "language_info": {
   "codemirror_mode": {
    "name": "ipython",
    "version": 3
   },
   "file_extension": ".py",
   "mimetype": "text/x-python",
   "name": "python",
   "nbconvert_exporter": "python",
   "pygments_lexer": "ipython3",
   "version": "3.7.4"
  }
 },
 "nbformat": 4,
 "nbformat_minor": 1
}
