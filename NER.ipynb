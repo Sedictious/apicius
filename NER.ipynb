{
 "cells": [
  {
   "cell_type": "markdown",
   "metadata": {},
   "source": [
    "### Named Entity Recognition\n",
    "\n",
    "The NER tagger allows users to identify named entities. Note that it's always best to sanitize your input by calling the ``JVReplacer``."
   ]
  },
  {
   "cell_type": "code",
   "execution_count": 1,
   "metadata": {},
   "outputs": [],
   "source": [
    "from cltk.tag import ner"
   ]
  },
  {
   "cell_type": "code",
   "execution_count": 2,
   "metadata": {},
   "outputs": [],
   "source": [
    "from  data.line_tokenized_text import line_tokenized_text as text"
   ]
  },
  {
   "cell_type": "code",
   "execution_count": 3,
   "metadata": {},
   "outputs": [],
   "source": [
    "from cltk.stem.latin.j_v import JVReplacer"
   ]
  },
  {
   "cell_type": "code",
   "execution_count": 4,
   "metadata": {},
   "outputs": [],
   "source": [
    "NER_tags = []"
   ]
  },
  {
   "cell_type": "code",
   "execution_count": 5,
   "metadata": {},
   "outputs": [],
   "source": [
    "jv_replacer = JVReplacer()"
   ]
  },
  {
   "cell_type": "code",
   "execution_count": 6,
   "metadata": {},
   "outputs": [],
   "source": [
    "for _line in text:\n",
    "    line = jv_replacer.replace(_line)\n",
    "    line_ner = ner.tag_ner('latin', input_text=line, output_type=list)\n",
    "    NER_tags.append(line_ner)"
   ]
  },
  {
   "cell_type": "code",
   "execution_count": 7,
   "metadata": {},
   "outputs": [
    {
     "data": {
      "text/plain": [
       "[('Conditi',),\n",
       " ('paradoxi',),\n",
       " ('compositio',),\n",
       " ('mellis',),\n",
       " ('pondo',),\n",
       " ('XU',),\n",
       " ('in',),\n",
       " ('aeneum',),\n",
       " ('uas',),\n",
       " ('mittuntu',),\n",
       " ('praemissis',),\n",
       " ('uini',),\n",
       " ('sextariis',),\n",
       " ('duobu',),\n",
       " ('ut',),\n",
       " ('in',),\n",
       " ('coctura',),\n",
       " ('mellis',),\n",
       " ('uinum',),\n",
       " ('decoquas',)]"
      ]
     },
     "execution_count": 7,
     "metadata": {},
     "output_type": "execute_result"
    }
   ],
   "source": [
    "NER_tags[0]"
   ]
  },
  {
   "cell_type": "code",
   "execution_count": 8,
   "metadata": {},
   "outputs": [
    {
     "data": {
      "text/plain": [
       "[('Apicius', 'Entity'), ('de',), ('re',), ('coquinaria',)]"
      ]
     },
     "execution_count": 8,
     "metadata": {},
     "output_type": "execute_result"
    }
   ],
   "source": [
    "ner.tag_ner('latin', input_text=\"Apicius de re coquinaria\")"
   ]
  },
  {
   "cell_type": "markdown",
   "metadata": {},
   "source": [
    "### Your Turn 💡 \n",
    "\n",
    "Can you create your own simple NER tagger? \n",
    "\n",
    "*Hint: In Latin, the only capitalized words are those that are named entities or in the beginning of the sentence. How can you increase your chances when encountering a word at the beginning of a sentence?*"
   ]
  }
 ],
 "metadata": {
  "kernelspec": {
   "display_name": "Python 3",
   "language": "python",
   "name": "python3"
  },
  "language_info": {
   "codemirror_mode": {
    "name": "ipython",
    "version": 3
   },
   "file_extension": ".py",
   "mimetype": "text/x-python",
   "name": "python",
   "nbconvert_exporter": "python",
   "pygments_lexer": "ipython3",
   "version": "3.7.4"
  }
 },
 "nbformat": 4,
 "nbformat_minor": 2
}
