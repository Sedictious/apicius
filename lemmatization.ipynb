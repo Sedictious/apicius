{
 "cells": [
  {
   "cell_type": "code",
   "execution_count": 1,
   "metadata": {},
   "outputs": [],
   "source": [
    "from cltk.lemmatize.latin.backoff import BackoffLatinLemmatizer"
   ]
  },
  {
   "cell_type": "code",
   "execution_count": 2,
   "metadata": {},
   "outputs": [],
   "source": [
    "lemmatizer = BackoffLatinLemmatizer()\n"
   ]
  },
  {
   "cell_type": "code",
   "execution_count": 3,
   "metadata": {},
   "outputs": [],
   "source": [
    "from  data.word_tokenized_text import word_tokenized_text as text"
   ]
  },
  {
   "cell_type": "code",
   "execution_count": 4,
   "metadata": {},
   "outputs": [],
   "source": [
    "lemmatized = lemmatizer.lemmatize(text)"
   ]
  },
  {
   "cell_type": "code",
   "execution_count": 5,
   "metadata": {},
   "outputs": [
    {
     "data": {
      "text/plain": [
       "[('Conditi', 'Conditi'),\n",
       " ('paradoxi', 'paradoxus'),\n",
       " ('compositio', 'compositio'),\n",
       " ('mellis', 'mel'),\n",
       " ('pondo', 'pondo'),\n",
       " ('XV', 'XV'),\n",
       " ('in', 'in'),\n",
       " ('aeneum', 'aeneus'),\n",
       " ('vas', 'vas'),\n",
       " ('mittuntur', 'mitto'),\n",
       " ('praemissis', 'praemitto'),\n",
       " ('vini', 'vinum'),\n",
       " ('sextariis', 'sextarius'),\n",
       " ('duobus', 'duo'),\n",
       " ('ut', 'ut'),\n",
       " ('in', 'in'),\n",
       " ('coctura', 'coquo'),\n",
       " ('mellis', 'mel'),\n",
       " ('vinum', 'vinum'),\n",
       " ('decoquas', 'decoquo'),\n",
       " ('quod', 'qui'),\n",
       " ('igni', 'ignis'),\n",
       " ('lento', 'lentus'),\n",
       " ('et', 'et'),\n",
       " ('aridis', 'aridus'),\n",
       " ('lignis', 'lignum'),\n",
       " ('calefactum', 'calefacio'),\n",
       " ('commotum', 'commoveo'),\n",
       " ('ferula', 'ferula'),\n",
       " ('dum', 'dum')]"
      ]
     },
     "execution_count": 5,
     "metadata": {},
     "output_type": "execute_result"
    }
   ],
   "source": [
    "lemmatized[:30]"
   ]
  },
  {
   "cell_type": "code",
   "execution_count": null,
   "metadata": {},
   "outputs": [],
   "source": []
  }
 ],
 "metadata": {
  "kernelspec": {
   "display_name": "Python 3",
   "language": "python",
   "name": "python3"
  },
  "language_info": {
   "codemirror_mode": {
    "name": "ipython",
    "version": 3
   },
   "file_extension": ".py",
   "mimetype": "text/x-python",
   "name": "python",
   "nbconvert_exporter": "python",
   "pygments_lexer": "ipython3",
   "version": "3.7.3"
  }
 },
 "nbformat": 4,
 "nbformat_minor": 2
}
