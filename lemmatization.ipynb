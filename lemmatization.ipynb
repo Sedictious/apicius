{
 "cells": [
  {
   "cell_type": "markdown",
   "metadata": {},
   "source": [
    "## Lemmatization\n",
    "\n",
    "CLTK uses a backoff lemmatizer consisting of a chain of different lemmatizers:\n",
    "\n",
    "1) dictionary-based lemmatizer with high-frequency\n",
    "\n",
    "2) a training-data-based lemmatizer based on 4,000 sentences from the [Perseus Latin Dependency Treebanks](https://perseusdl.github.io/treebank_data/)\n",
    "\n",
    "3) a regular-expression-based lemmatizer stripping word affixes \n",
    "\n",
    "4) a dictionary-based lemmatizer with the complete set of Morpheus lemmas\n",
    "\n",
    "5) an ‘identity’ lemmatizer returning the token as the lemma\n"
   ]
  },
  {
   "cell_type": "code",
   "execution_count": 1,
   "metadata": {},
   "outputs": [],
   "source": [
    "from cltk.lemmatize.latin.backoff import BackoffLatinLemmatizer"
   ]
  },
  {
   "cell_type": "code",
   "execution_count": 2,
   "metadata": {},
   "outputs": [],
   "source": [
    "lemmatizer = BackoffLatinLemmatizer()"
   ]
  },
  {
   "cell_type": "code",
   "execution_count": 3,
   "metadata": {},
   "outputs": [],
   "source": [
    "from  data.word_tokenized_text import word_tokenized_text as text"
   ]
  },
  {
   "cell_type": "code",
   "execution_count": 4,
   "metadata": {},
   "outputs": [],
   "source": [
    "lemmatized = lemmatizer.lemmatize(text)"
   ]
  },
  {
   "cell_type": "code",
   "execution_count": 5,
   "metadata": {},
   "outputs": [
    {
     "data": {
      "text/plain": [
       "[('Conditi', 'Conditi'),\n",
       " ('paradoxi', 'paradoxus'),\n",
       " ('compositio', 'compositio'),\n",
       " ('mellis', 'mel'),\n",
       " ('pondo', 'pondo'),\n",
       " ('XV', 'XV'),\n",
       " ('in', 'in'),\n",
       " ('aeneum', 'aeneus'),\n",
       " ('vas', 'vas'),\n",
       " ('mittuntur', 'mitto'),\n",
       " ('praemissis', 'praemitto'),\n",
       " ('vini', 'vinum'),\n",
       " ('sextariis', 'sextarius'),\n",
       " ('duobus', 'duo'),\n",
       " ('ut', 'ut'),\n",
       " ('in', 'in'),\n",
       " ('coctura', 'coquo'),\n",
       " ('mellis', 'mel'),\n",
       " ('vinum', 'vinum'),\n",
       " ('decoquas', 'decoquo'),\n",
       " ('quod', 'qui'),\n",
       " ('igni', 'ignis'),\n",
       " ('lento', 'lentus'),\n",
       " ('et', 'et'),\n",
       " ('aridis', 'aridus'),\n",
       " ('lignis', 'lignum'),\n",
       " ('calefactum', 'calefacio'),\n",
       " ('commotum', 'commoveo'),\n",
       " ('ferula', 'ferula'),\n",
       " ('dum', 'dum')]"
      ]
     },
     "execution_count": 5,
     "metadata": {},
     "output_type": "execute_result"
    }
   ],
   "source": [
    "lemmatized[:30]"
   ]
  },
  {
   "cell_type": "code",
   "execution_count": 6,
   "metadata": {},
   "outputs": [],
   "source": [
    "line_lemmatized_text = []"
   ]
  },
  {
   "cell_type": "code",
   "execution_count": 7,
   "metadata": {},
   "outputs": [],
   "source": [
    "from data.line_tokenized_text import line_tokenized_text"
   ]
  },
  {
   "cell_type": "code",
   "execution_count": 8,
   "metadata": {},
   "outputs": [],
   "source": [
    "from cltk.stem.latin.j_v import JVReplacer"
   ]
  },
  {
   "cell_type": "code",
   "execution_count": 9,
   "metadata": {},
   "outputs": [],
   "source": [
    "for line in line_tokenized_text:\n",
    "    _line = lemmatizer.lemmatize(JVReplacer().replace(line).split(\" \"))\n",
    "    line_lemmatized_text.append(_line)"
   ]
  },
  {
   "cell_type": "code",
   "execution_count": 10,
   "metadata": {},
   "outputs": [
    {
     "data": {
      "text/plain": [
       "[('Conditi', 'Conditi'),\n",
       " ('paradoxi', 'paradoxus'),\n",
       " ('compositio', 'compositio'),\n",
       " ('mellis', 'mel'),\n",
       " ('pondo', 'pondo'),\n",
       " ('XU', 'XU'),\n",
       " ('in', 'in'),\n",
       " ('aeneum', 'aeneus'),\n",
       " ('uas', 'uas'),\n",
       " ('mittuntu', 'mittuntu'),\n",
       " ('praemissis', 'praemitto'),\n",
       " ('uini', 'uinum'),\n",
       " ('sextariis', 'sextarius'),\n",
       " ('duobu', 'duobu'),\n",
       " ('ut', 'ut'),\n",
       " ('in', 'in'),\n",
       " ('coctura', 'coquo'),\n",
       " ('mellis', 'mel'),\n",
       " ('uinum', 'uinum'),\n",
       " ('decoquas', 'decoquo')]"
      ]
     },
     "execution_count": 10,
     "metadata": {},
     "output_type": "execute_result"
    }
   ],
   "source": [
    "line_lemmatized_text[0]"
   ]
  },
  {
   "cell_type": "code",
   "execution_count": 11,
   "metadata": {},
   "outputs": [],
   "source": [
    "from data.ingredient_list import ingredients"
   ]
  },
  {
   "cell_type": "code",
   "execution_count": 12,
   "metadata": {},
   "outputs": [],
   "source": [
    "ingredients = set(ingredients)"
   ]
  },
  {
   "cell_type": "code",
   "execution_count": 13,
   "metadata": {},
   "outputs": [],
   "source": [
    "ingredient_indices = []\n",
    "\n",
    "for i, lemma in enumerate(lemmatized):\n",
    "    if lemma[1] in ingredients:\n",
    "        ingredient_indices.append(i)"
   ]
  },
  {
   "cell_type": "code",
   "execution_count": 14,
   "metadata": {},
   "outputs": [
    {
     "data": {
      "text/plain": [
       "[3,\n",
       " 11,\n",
       " 17,\n",
       " 18,\n",
       " 34,\n",
       " 83,\n",
       " 88,\n",
       " 102,\n",
       " 119,\n",
       " 122,\n",
       " 137,\n",
       " 140,\n",
       " 147,\n",
       " 152,\n",
       " 185,\n",
       " 206,\n",
       " 214,\n",
       " 221,\n",
       " 234,\n",
       " 247,\n",
       " 256,\n",
       " 280,\n",
       " 307,\n",
       " 314,\n",
       " 322,\n",
       " 334,\n",
       " 357,\n",
       " 360,\n",
       " 388,\n",
       " 394]"
      ]
     },
     "execution_count": 14,
     "metadata": {},
     "output_type": "execute_result"
    }
   ],
   "source": [
    "ingredient_indices[:30]"
   ]
  }
 ],
 "metadata": {
  "kernelspec": {
   "display_name": "Python 3",
   "language": "python",
   "name": "python3"
  },
  "language_info": {
   "codemirror_mode": {
    "name": "ipython",
    "version": 3
   },
   "file_extension": ".py",
   "mimetype": "text/x-python",
   "name": "python",
   "nbconvert_exporter": "python",
   "pygments_lexer": "ipython3",
   "version": "3.7.4"
  }
 },
 "nbformat": 4,
 "nbformat_minor": 2
}
